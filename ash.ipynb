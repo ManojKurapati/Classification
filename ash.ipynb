{
 "cells": [
  {
   "cell_type": "code",
   "execution_count": 1,
   "id": "88780b37-ddbf-4bae-a3b1-55d38bfdf7f1",
   "metadata": {},
   "outputs": [],
   "source": [
    "import pandas as pd\n",
    "import numpy as np"
   ]
  },
  {
   "cell_type": "code",
   "execution_count": 2,
   "id": "da603e55-10a0-41a9-9d17-e8a2c8722a06",
   "metadata": {},
   "outputs": [],
   "source": [
    "Df = pd.read_csv('/Users/klm/Downloads/Zing_Customer_Dataset3 - Zing_Customer_Dataset3 (1).csv')"
   ]
  },
  {
   "cell_type": "code",
   "execution_count": 3,
   "id": "f5f2eec9-afaa-414f-adcb-af87afaf9ae0",
   "metadata": {},
   "outputs": [
    {
     "data": {
      "text/html": [
       "<div>\n",
       "<style scoped>\n",
       "    .dataframe tbody tr th:only-of-type {\n",
       "        vertical-align: middle;\n",
       "    }\n",
       "\n",
       "    .dataframe tbody tr th {\n",
       "        vertical-align: top;\n",
       "    }\n",
       "\n",
       "    .dataframe thead th {\n",
       "        text-align: right;\n",
       "    }\n",
       "</style>\n",
       "<table border=\"1\" class=\"dataframe\">\n",
       "  <thead>\n",
       "    <tr style=\"text-align: right;\">\n",
       "      <th></th>\n",
       "      <th>Customer ID</th>\n",
       "      <th>Gender</th>\n",
       "      <th>Age</th>\n",
       "      <th>Years with Firm</th>\n",
       "      <th>Active on Social Media</th>\n",
       "      <th>Average Transactions per Month</th>\n",
       "      <th>RFM Score</th>\n",
       "      <th>Credit Balance (AED)</th>\n",
       "      <th>Customer Bio</th>\n",
       "      <th>Customer Name</th>\n",
       "      <th>Customer Username</th>\n",
       "      <th>Profile Picture on Social Media</th>\n",
       "      <th>Number of Referrals</th>\n",
       "      <th>Payback Status</th>\n",
       "    </tr>\n",
       "  </thead>\n",
       "  <tbody>\n",
       "    <tr>\n",
       "      <th>0</th>\n",
       "      <td>CUST0001</td>\n",
       "      <td>Female</td>\n",
       "      <td>43</td>\n",
       "      <td>9</td>\n",
       "      <td>Yes</td>\n",
       "      <td>13.11</td>\n",
       "      <td>2.0</td>\n",
       "      <td>468</td>\n",
       "      <td>Always learning</td>\n",
       "      <td>Customer 1</td>\n",
       "      <td>user_1</td>\n",
       "      <td>Yes</td>\n",
       "      <td>7</td>\n",
       "      <td>7</td>\n",
       "    </tr>\n",
       "    <tr>\n",
       "      <th>1</th>\n",
       "      <td>CUST0002</td>\n",
       "      <td>Male</td>\n",
       "      <td>48</td>\n",
       "      <td>10</td>\n",
       "      <td>No</td>\n",
       "      <td>6.09</td>\n",
       "      <td>1.0</td>\n",
       "      <td>336</td>\n",
       "      <td>Traveler</td>\n",
       "      <td>Customer 2</td>\n",
       "      <td>user_2</td>\n",
       "      <td>No</td>\n",
       "      <td>2</td>\n",
       "      <td>Default</td>\n",
       "    </tr>\n",
       "    <tr>\n",
       "      <th>2</th>\n",
       "      <td>CUST0003</td>\n",
       "      <td>Female</td>\n",
       "      <td>19</td>\n",
       "      <td>7</td>\n",
       "      <td>Yes</td>\n",
       "      <td>17.05</td>\n",
       "      <td>1.0</td>\n",
       "      <td>596</td>\n",
       "      <td>Love</td>\n",
       "      <td>Customer 3</td>\n",
       "      <td>user_3</td>\n",
       "      <td>No</td>\n",
       "      <td>3</td>\n",
       "      <td>Default</td>\n",
       "    </tr>\n",
       "    <tr>\n",
       "      <th>3</th>\n",
       "      <td>CUST0004</td>\n",
       "      <td>Female</td>\n",
       "      <td>31</td>\n",
       "      <td>0</td>\n",
       "      <td>No</td>\n",
       "      <td>16.77</td>\n",
       "      <td>5.0</td>\n",
       "      <td>488</td>\n",
       "      <td>Foodie, traveler, and passionate about persona...</td>\n",
       "      <td>Customer 4</td>\n",
       "      <td>user_4</td>\n",
       "      <td>Yes</td>\n",
       "      <td>4</td>\n",
       "      <td>2</td>\n",
       "    </tr>\n",
       "    <tr>\n",
       "      <th>4</th>\n",
       "      <td>CUST0005</td>\n",
       "      <td>Male</td>\n",
       "      <td>55</td>\n",
       "      <td>2</td>\n",
       "      <td>No</td>\n",
       "      <td>18.48</td>\n",
       "      <td>2.0</td>\n",
       "      <td>169</td>\n",
       "      <td>Love</td>\n",
       "      <td>Customer 5</td>\n",
       "      <td>customer5</td>\n",
       "      <td>No</td>\n",
       "      <td>0</td>\n",
       "      <td>Default</td>\n",
       "    </tr>\n",
       "  </tbody>\n",
       "</table>\n",
       "</div>"
      ],
      "text/plain": [
       "  Customer ID  Gender  Age  Years with Firm Active on Social Media  \\\n",
       "0    CUST0001  Female   43                9                    Yes   \n",
       "1    CUST0002    Male   48               10                     No   \n",
       "2    CUST0003  Female   19                7                    Yes   \n",
       "3    CUST0004  Female   31                0                     No   \n",
       "4    CUST0005    Male   55                2                     No   \n",
       "\n",
       "   Average Transactions per Month  RFM Score  Credit Balance (AED)  \\\n",
       "0                           13.11        2.0                   468   \n",
       "1                            6.09        1.0                   336   \n",
       "2                           17.05        1.0                   596   \n",
       "3                           16.77        5.0                   488   \n",
       "4                           18.48        2.0                   169   \n",
       "\n",
       "                                        Customer Bio Customer Name  \\\n",
       "0                                    Always learning    Customer 1   \n",
       "1                                           Traveler    Customer 2   \n",
       "2                                               Love    Customer 3   \n",
       "3  Foodie, traveler, and passionate about persona...    Customer 4   \n",
       "4                                               Love    Customer 5   \n",
       "\n",
       "  Customer Username Profile Picture on Social Media  Number of Referrals  \\\n",
       "0            user_1                             Yes                    7   \n",
       "1            user_2                              No                    2   \n",
       "2            user_3                              No                    3   \n",
       "3            user_4                             Yes                    4   \n",
       "4         customer5                              No                    0   \n",
       "\n",
       "  Payback Status  \n",
       "0              7  \n",
       "1        Default  \n",
       "2        Default  \n",
       "3              2  \n",
       "4        Default  "
      ]
     },
     "execution_count": 3,
     "metadata": {},
     "output_type": "execute_result"
    }
   ],
   "source": [
    "Df.head()"
   ]
  },
  {
   "cell_type": "code",
   "execution_count": 4,
   "id": "d7f3db19-aa70-4afa-bf8e-043c940f7199",
   "metadata": {},
   "outputs": [
    {
     "name": "stdout",
     "output_type": "stream",
     "text": [
      "  Customer ID  RFM Score rfm_category\n",
      "0    CUST0001        2.0          Bad\n",
      "1    CUST0002        1.0          Bad\n",
      "2    CUST0003        1.0          Bad\n",
      "3    CUST0004        5.0         Good\n",
      "4    CUST0005        2.0          Bad\n"
     ]
    }
   ],
   "source": [
    "Df['rfm_category'] = Df['RFM Score'].apply(lambda x: 'Good' if x > 3 else 'Bad')\n",
    "\n",
    "# Verify the new column\n",
    "print(Df[['Customer ID', 'RFM Score', 'rfm_category']].head())"
   ]
  },
  {
   "cell_type": "code",
   "execution_count": 5,
   "id": "89938427-8cad-44a6-8280-19e801ffc8a5",
   "metadata": {},
   "outputs": [
    {
     "name": "stdout",
     "output_type": "stream",
     "text": [
      "Baseline Model Accuracy: 0.75\n",
      "Confusion Matrix for Baseline Model:\n",
      " [[135   0]\n",
      " [ 45   0]]\n",
      "Baseline Model Coefficients:\n",
      " [[-0.02203664  0.01422655 -0.02709788]]\n"
     ]
    }
   ],
   "source": [
    "from sklearn.model_selection import train_test_split\n",
    "from sklearn.linear_model import LogisticRegression\n",
    "from sklearn.metrics import accuracy_score, confusion_matrix\n",
    "\n",
    "# Convert 'Good'/'Bad' to binary values\n",
    "Df['rfm_category'] = Df['rfm_category'].map({'Good': 1, 'Bad': 0})\n",
    "\n",
    "# Select independent variables for the baseline model\n",
    "X = Df[['Age', 'Years with Firm', 'Average Transactions per Month']]\n",
    "y = Df['rfm_category']\n",
    "\n",
    "# Split the data into training and testing sets\n",
    "X_train, X_test, y_train, y_test = train_test_split(X, y, test_size=0.3, random_state=42)\n",
    "\n",
    "# Initialize and fit the logistic regression model\n",
    "model_baseline = LogisticRegression()\n",
    "model_baseline.fit(X_train, y_train)\n",
    "\n",
    "# Make predictions\n",
    "y_pred_baseline = model_baseline.predict(X_test)\n",
    "\n",
    "# Evaluate the model\n",
    "accuracy_baseline = accuracy_score(y_test, y_pred_baseline)\n",
    "print(\"Baseline Model Accuracy:\", accuracy_baseline)\n",
    "\n",
    "# Confusion Matrix\n",
    "conf_matrix_baseline = confusion_matrix(y_test, y_pred_baseline)\n",
    "print(\"Confusion Matrix for Baseline Model:\\n\", conf_matrix_baseline)\n",
    "\n",
    "# Model coefficients\n",
    "print(\"Baseline Model Coefficients:\\n\", model_baseline.coef_)\n"
   ]
  },
  {
   "cell_type": "markdown",
   "id": "8edf2d07-6f89-4070-9207-707b5f216875",
   "metadata": {},
   "source": [
    "Improved Model"
   ]
  },
  {
   "cell_type": "code",
   "execution_count": 7,
   "id": "6e6d10bf-4e93-4c94-b352-6a2a7aa0e3c9",
   "metadata": {},
   "outputs": [],
   "source": [
    "Df.isnull().sum()  # Check for missing values\n",
    "# Fill missing values (for example, replacing missing 'Age' with the median)\n",
    "Df['Age'].fillna(Df['Age'].median(), inplace=True)\n"
   ]
  },
  {
   "cell_type": "code",
   "execution_count": 9,
   "id": "d024c29e-28e6-4afc-b6c5-2ef00e4c23ff",
   "metadata": {},
   "outputs": [],
   "source": [
    "# Example for detecting outliers in 'Age'\n",
    "from scipy import stats\n",
    "Df = Df[(np.abs(stats.zscore(Df['Age'])) < 3)]  # Remove rows with outliers\n"
   ]
  },
  {
   "cell_type": "code",
   "execution_count": 10,
   "id": "2de99f1f-7580-4a11-a7cc-f7a7717ef8c8",
   "metadata": {},
   "outputs": [],
   "source": [
    "Df['Age_Transaction_Interaction'] = Df['Age'] * Df['Average Transactions per Month']\n"
   ]
  },
  {
   "cell_type": "code",
   "execution_count": 12,
   "id": "394a8117-5194-4294-8f83-98b8f8f1d786",
   "metadata": {},
   "outputs": [],
   "source": [
    "from sklearn.preprocessing import StandardScaler\n",
    "scaler = StandardScaler()\n",
    "Df[['Age', 'Average Transactions per Month']] = scaler.fit_transform(Df[['Age', 'Average Transactions per Month']])\n"
   ]
  },
  {
   "cell_type": "code",
   "execution_count": 13,
   "id": "79ea5799-eb0d-4209-9dce-0d90c6cf2d58",
   "metadata": {},
   "outputs": [
    {
     "name": "stdout",
     "output_type": "stream",
     "text": [
      "Improved Model Accuracy with Adjusted Cutoff: 0.75\n"
     ]
    }
   ],
   "source": [
    "# Adjusting the threshold to 0.6\n",
    "y_pred_prob = model_baseline.predict_proba(X_test)[:, 1]\n",
    "y_pred_adjusted = (y_pred_prob > 0.6).astype(int)\n",
    "accuracy_adjusted = accuracy_score(y_test, y_pred_adjusted)\n",
    "print(\"Improved Model Accuracy with Adjusted Cutoff:\", accuracy_adjusted)\n"
   ]
  },
  {
   "cell_type": "code",
   "execution_count": 14,
   "id": "9a88e71f-0a31-44aa-8cb7-3270b8d313c4",
   "metadata": {},
   "outputs": [
    {
     "name": "stdout",
     "output_type": "stream",
     "text": [
      "Improved Model Accuracy: 0.75\n",
      "Improved Model Confusion Matrix:\n",
      " [[135   0]\n",
      " [ 45   0]]\n",
      "Improved Model Coefficients:\n",
      " [[-0.21267672  0.01541954  0.08672915 -0.00064589]]\n"
     ]
    }
   ],
   "source": [
    "# Select the improved set of independent variables (including interaction terms if needed)\n",
    "X_improved = Df[['Age', 'Years with Firm', 'Average Transactions per Month', 'Age_Transaction_Interaction']]\n",
    "y_improved = Df['rfm_category']\n",
    "\n",
    "# Split data into train and test sets\n",
    "X_train_improved, X_test_improved, y_train_improved, y_test_improved = train_test_split(X_improved, y_improved, test_size=0.3, random_state=42)\n",
    "\n",
    "# Train the logistic regression model\n",
    "model_improved = LogisticRegression()\n",
    "model_improved.fit(X_train_improved, y_train_improved)\n",
    "\n",
    "# Make predictions and evaluate the model\n",
    "y_pred_improved = model_improved.predict(X_test_improved)\n",
    "accuracy_improved = accuracy_score(y_test_improved, y_pred_improved)\n",
    "print(\"Improved Model Accuracy:\", accuracy_improved)\n",
    "\n",
    "# Confusion Matrix\n",
    "conf_matrix_improved = confusion_matrix(y_test_improved, y_pred_improved)\n",
    "print(\"Improved Model Confusion Matrix:\\n\", conf_matrix_improved)\n",
    "\n",
    "# Model Coefficients\n",
    "print(\"Improved Model Coefficients:\\n\", model_improved.coef_)\n"
   ]
  },
  {
   "cell_type": "code",
   "execution_count": null,
   "id": "ba9821f7-cb32-4473-a50d-263ef953748e",
   "metadata": {},
   "outputs": [],
   "source": []
  }
 ],
 "metadata": {
  "kernelspec": {
   "display_name": "Python 3 (ipykernel)",
   "language": "python",
   "name": "python3"
  },
  "language_info": {
   "codemirror_mode": {
    "name": "ipython",
    "version": 3
   },
   "file_extension": ".py",
   "mimetype": "text/x-python",
   "name": "python",
   "nbconvert_exporter": "python",
   "pygments_lexer": "ipython3",
   "version": "3.11.7"
  }
 },
 "nbformat": 4,
 "nbformat_minor": 5
}
